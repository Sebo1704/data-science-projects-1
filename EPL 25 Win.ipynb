{
 "cells": [
  {
   "cell_type": "code",
   "execution_count": 14,
   "metadata": {},
   "outputs": [],
   "source": [
    "import pandas as pd \n",
    "from sklearn.ensemble import RandomForestClassifier\n",
    "from sklearn.metrics import accuracy_score\n",
    "import glob"
   ]
  },
  {
   "cell_type": "code",
   "execution_count": null,
   "metadata": {},
   "outputs": [],
   "source": [
    "# Path where your CSVs are stored\n",
    "path = \"data/epl/\"  \n",
    "\n",
    "# Get all CSV files in the folder\n",
    "files = glob.glob(path + \"*.csv\")\n",
    "\n",
    "# Create a list of dataframes\n",
    "dfs = []\n",
    "for f in files:\n",
    "    df = pd.read_csv(f)\n",
    "    # Example: add season from filename (assuming file like \"EPL_2019_2020.csv\")\n",
    "    season = f.split(\"_\")[-2] + \"/\" + f.split(\"_\")[-1].replace(\".csv\", \"\")\n",
    "    df[\"Season\"] = season\n",
    "    dfs.append(df)\n",
    "\n",
    "# Combine into one dataframe\n",
    "epl_data = pd.concat(dfs, ignore_index=True)\n",
    "\n",
    "print(epl_data.head())\n",
    "print(epl_data.shape)"
   ]
  },
  {
   "cell_type": "code",
   "execution_count": null,
   "metadata": {},
   "outputs": [],
   "source": []
  },
  {
   "cell_type": "code",
   "execution_count": null,
   "metadata": {},
   "outputs": [],
   "source": []
  },
  {
   "cell_type": "code",
   "execution_count": null,
   "metadata": {},
   "outputs": [],
   "source": []
  },
  {
   "cell_type": "code",
   "execution_count": null,
   "metadata": {},
   "outputs": [],
   "source": []
  },
  {
   "cell_type": "code",
   "execution_count": null,
   "metadata": {},
   "outputs": [],
   "source": []
  },
  {
   "cell_type": "code",
   "execution_count": null,
   "metadata": {},
   "outputs": [],
   "source": [
    "df=pd.read_csv('Training_DatasetV3.csv')\n",
    "df['date_GMT'] = pd.to_datetime(df['date_GMT'], format='%b %d %Y - %I:%M%p')\n",
    "df"
   ]
  },
  {
   "cell_type": "code",
   "execution_count": null,
   "metadata": {},
   "outputs": [],
   "source": [
    "df[\"home_team_code\"] = df[\"home_team_name\"].astype(\"category\").cat.codes\n",
    "df[\"away_team_code\"] = df[\"away_team_name\"].astype(\"category\").cat.codes\n",
    "df[\"stadium_code\"] = df[\"stadium_name\"].astype(\"category\").cat.codes\n",
    "df[\"day_of_week\"] = df[\"date_GMT\"].dt.dayofweek\n",
    "\n",
    "df[\"target\"] = df[\"Result\"].map({\"W\": 1, \"L\": 0, \"D\": 2})\n",
    "\n",
    "df"
   ]
  },
  {
   "cell_type": "code",
   "execution_count": null,
   "metadata": {},
   "outputs": [],
   "source": [
    "rf = RandomForestClassifier(n_estimators=50, min_samples_split=10)\n",
    "#rf= LogisticRegression()\n",
    "train = df[df[\"date_GMT\"] < '2022-08-05']\n",
    "test = df[(df[\"date_GMT\"] >= '2022-08-05') & (df[\"date_GMT\"] < '2024-04-01')]\n",
    "predictors = [\"home_team_code\", \"away_team_code\", \"stadium_code\", \"day_of_week\", \"Game Week\", \n",
    "              \"home_ppg\", \"away_ppg\" ]\n",
    "rf.fit(train[predictors], train[\"target\"])\n",
    "preds = rf.predict(test[predictors])\n"
   ]
  },
  {
   "cell_type": "code",
   "execution_count": null,
   "metadata": {},
   "outputs": [],
   "source": [
    "error = accuracy_score(test[\"target\"], preds)\n",
    "print(error)"
   ]
  },
  {
   "cell_type": "code",
   "execution_count": null,
   "metadata": {},
   "outputs": [],
   "source": [
    "combined = pd.DataFrame(dict(actual=test[\"target\"], predicted=preds))\n",
    "pd.crosstab(index=combined[\"actual\"], columns=combined[\"predicted\"])\n"
   ]
  },
  {
   "cell_type": "code",
   "execution_count": null,
   "metadata": {},
   "outputs": [],
   "source": [
    "future = df[df[\"date_GMT\"] > '2024-04-01']\n",
    "predictions=rf.predict(future[predictors])\n",
    "future[\"Predictions\"]=predictions\n",
    "LiverPool=future[(future['home_team_name'] == 'Liverpool') | (future['away_team_name'] == 'Liverpool')]\n",
    "Manchester_City\t=future[(future['home_team_name'] == 'Manchester City') | (future['away_team_name'] == 'Manchester City')]\n",
    "Arsenal=future[(future['home_team_name'] == 'Arsenal') | (future['away_team_name'] == 'Arsenal')]"
   ]
  },
  {
   "cell_type": "code",
   "execution_count": null,
   "metadata": {},
   "outputs": [],
   "source": [
    "# Liverpool points\n",
    "L_value_counts = LiverPool['Predictions'].value_counts()\n",
    "Liverpool_Points_from_Remaining_Matches = L_value_counts.get(1, 0) * 3 + L_value_counts.get(2, 0) * 1\n",
    "print(\"Liverpool_Points_from_Remaining_Matches =\", Liverpool_Points_from_Remaining_Matches)\n",
    "\n",
    "# Manchester City points\n",
    "M_value_counts = Manchester_City['Predictions'].value_counts()\n",
    "Manchester_City_Points_from_Remaining_Matches = M_value_counts.get(1, 0) * 3 + M_value_counts.get(2, 0) * 1\n",
    "print(\"Manchester_City_Points_from_Remaining_Matches =\", Manchester_City_Points_from_Remaining_Matches)\n",
    "\n",
    "# Arsenal points\n",
    "A_value_counts = Arsenal['Predictions'].value_counts()\n",
    "Arsenal_Points_from_Remaining_Matches = A_value_counts.get(1, 0) * 3\n",
    "print(\"Arsenal_Points_from_Remaining_Matches =\", Arsenal_Points_from_Remaining_Matches)"
   ]
  },
  {
   "cell_type": "code",
   "execution_count": null,
   "metadata": {},
   "outputs": [],
   "source": [
    "print(\"Liverpool_Points_End_of_League=\",Liverpool_Points_from_Remaining_Matches + 67 )\n",
    "print(\"Manchester_City_Points_End_of_League=\", Manchester_City_Points_from_Remaining_Matches + 64 )\n",
    "print(\"Arsenal_Points_End_of_League=\",Arsenal_Points_from_Remaining_Matches + 65 )"
   ]
  }
 ],
 "metadata": {
  "kernelspec": {
   "display_name": "Python 3 (ipykernel)",
   "language": "python",
   "name": "python3"
  },
  "language_info": {
   "codemirror_mode": {
    "name": "ipython",
    "version": 3
   },
   "file_extension": ".py",
   "mimetype": "text/x-python",
   "name": "python",
   "nbconvert_exporter": "python",
   "pygments_lexer": "ipython3",
   "version": "3.11.5"
  }
 },
 "nbformat": 4,
 "nbformat_minor": 4
}
